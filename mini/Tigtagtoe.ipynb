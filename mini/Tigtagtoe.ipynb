{
  "cells": [
    {
      "cell_type": "code",
      "execution_count": null,
      "metadata": {
        "id": "_qNfSKjlEnAq"
      },
      "outputs": [],
      "source": [
        "import random\n",
        "from dataclasses import dataclass"
      ]
    },
    {
      "cell_type": "code",
      "execution_count": null,
      "metadata": {
        "id": "wXTe4avFIMRs"
      },
      "outputs": [],
      "source": [
        "@dataclass\n",
        "class PlayerInfo:\n",
        "    big_move_limit: int\n",
        "    medium_move_limit: int\n",
        "    small_move_limit: int\n",
        "    big_moves_used: int\n",
        "    medium_moves_used: int\n",
        "    small_moves_used: int"
      ]
    },
    {
      "cell_type": "markdown",
      "metadata": {
        "id": "vbZNiStqOYfF"
      },
      "source": [
        "Check ผู้ชนะ XO แบบตาราง 3x3"
      ]
    },
    {
      "cell_type": "code",
      "execution_count": null,
      "metadata": {
        "id": "_T-B9jx36dh4"
      },
      "outputs": [],
      "source": [
        "def check_winner(board):\n",
        "    # Check rows, columns, and diagonals for a winner\n",
        "    for row in board:\n",
        "        if all(cell == row[0] and cell != ' ' for cell in row):\n",
        "            return row[0]\n",
        "\n",
        "    for col in range(3):\n",
        "        if all(board[row][col] == board[0][col] and board[row][col] != ' ' for row in range(3)):\n",
        "            return board[0][col]\n",
        "\n",
        "    if board[0][0] == board[1][1] == board[2][2] and board[0][0] != ' ':\n",
        "        return board[0][0]\n",
        "\n",
        "    if board[0][2] == board[1][1] == board[2][0] and board[0][2] != ' ':\n",
        "        return board[0][2]\n",
        "\n",
        "    return None"
      ]
    },
    {
      "cell_type": "markdown",
      "metadata": {
        "id": "8uRLVMiZOkV4"
      },
      "source": [
        "* select_movable_cell function ที่จะให้ช่องที่ player สามารถเลือกลงหมากได้ คนเป็น array 1D ที่มีค่าของ tuple x,y (index ช่องที่เลือกได้)\n",
        "  *   board = ตารางปัจจุบัน ใครวางส่วนไหน เป็น array string 3x3 เป็นไปได้ 3 values ('X', 'O', ' ')\n",
        "  *   move_sizes = ตารางปัจจุบัน แต่บอกเป็น size ของหมากที่วาง เป็น array int 3x3 เป็นไปได้ 4 values (3, 2, 1, 0)\n",
        "    * 3 คือ หมากใหญ่สุด\n",
        "    * 2 คือ หมากกลาง\n",
        "    * 1 คือ หมากเล็ก\n",
        "    * 0 คือ ยังไม่วาง\n",
        "  * move_size คือ player กำลังจะวางหมากอะไร (3,2,1)\n",
        "  * current_player คือ player คนนี้คือใคร ('X', 'O')\n",
        "\n"
      ]
    },
    {
      "cell_type": "code",
      "execution_count": null,
      "metadata": {
        "id": "I6TFt-e7LQOg"
      },
      "outputs": [],
      "source": [
        "def select_movable_cell(board, move_sizes, move_size, current_player):\n",
        "    # get all cell\n",
        "    all_cells = [(i, j) for i in range(3) for j in range(3) if (board[i][j] != current_player and move_sizes[i][j] < move_size) or board[i][j] == ' ']\n",
        "    if not all_cells:\n",
        "        return None  # Draw\n",
        "    return all_cells"
      ]
    },
    {
      "cell_type": "markdown",
      "metadata": {
        "id": "cCeMio9iQQPV"
      },
      "source": [
        "\n",
        "\n",
        "*   select_move_size ไว้ random ขนาดหมากของ player return เป็น 3,2,1\n",
        "  * อาจจะเกิด error ได้ถ้า ไม่เข้า if ไหนเลย\n"
      ]
    },
    {
      "cell_type": "code",
      "execution_count": null,
      "metadata": {
        "id": "V1M-7vNhNiV9"
      },
      "outputs": [],
      "source": [
        "def select_move_size(player_info):\n",
        "    choices = []\n",
        "    if player_info.big_moves_used < player_info.big_move_limit:\n",
        "        choices.append(3)\n",
        "    if player_info.medium_moves_used < player_info.medium_move_limit:\n",
        "        choices.append(2)\n",
        "    if player_info.small_moves_used < player_info.small_move_limit:\n",
        "        choices.append(1)\n",
        "    return random.choice(choices)"
      ]
    },
    {
      "cell_type": "markdown",
      "metadata": {
        "id": "2fD6G-KHQith"
      },
      "source": [
        "* find_winner_by_count_player ไว้รับว่าหมากใครมากกว่ากันในกระดาน return เป็น 'X' กับ 'O' (ไว้เช็คคนชนะตอนท้าย)"
      ]
    },
    {
      "cell_type": "code",
      "execution_count": null,
      "metadata": {
        "id": "dwxNPbrZV7Bn"
      },
      "outputs": [],
      "source": [
        "def find_winner_by_count_player(board):\n",
        "    countX = 0\n",
        "    countY = 0\n",
        "    for player in board:\n",
        "        if player == 'X':\n",
        "            countX += 1\n",
        "        else:\n",
        "            countY += 1\n",
        "    return 'X' if countX > countY else 'O'"
      ]
    },
    {
      "cell_type": "markdown",
      "metadata": {
        "id": "Nj3NjsQXQ8rT"
      },
      "source": [
        "# Simulate game\n",
        "\n",
        "\n",
        "* เล่นเกมจนผ่าน\n",
        "* return เป็นผู้ชนะ ('X', 'O', None)\n",
        "* เป็น None ถ้าไม่มีผู้ชนะ (อันนี้ไม่ควรเกิดขึ้น เพราะ แก้เป็นนับจำนวนหมากแทน)\n",
        "* แก้ PlayeInfo เพื่อ balance เกม\n",
        "\n"
      ]
    },
    {
      "cell_type": "code",
      "execution_count": null,
      "metadata": {
        "id": "yUWI7E6H6iU4"
      },
      "outputs": [],
      "source": [
        "def simulate_game():\n",
        "    board = [\n",
        "        [' ', ' ', ' '],\n",
        "        [' ', ' ', ' '],\n",
        "        [' ', ' ', ' ']\n",
        "    ]\n",
        "\n",
        "    move_sizes = [\n",
        "        [0, 0, 0],\n",
        "        [0, 0, 0],\n",
        "        [0, 0, 0]\n",
        "    ]\n",
        "\n",
        "    player1 = 'X'\n",
        "    player2 = 'O'\n",
        "    current_player = player1\n",
        "\n",
        "    # Change this section for tuning parameter\n",
        "    # TODO - Refactor by Extract this part as parameters\n",
        "    # player 1 is starter\n",
        "    # ***********************************************************************************************\n",
        "    # EDIT THIS PART TO BALANCE GAME\n",
        "    # ***********************************************************************************************\n",
        "    player1_info = PlayerInfo(big_move_limit=2, medium_move_limit=3, small_move_limit=3,\n",
        "                              big_moves_used=0, medium_moves_used=0, small_moves_used=0)\n",
        "\n",
        "    # player 2\n",
        "    player2_info = PlayerInfo(big_move_limit=2, medium_move_limit=3, small_move_limit=3,\n",
        "                              big_moves_used=0, medium_moves_used=0, small_moves_used=0)\n",
        "    # ***********************************************************************************************\n",
        "\n",
        "    # Maximum 9 moves on a 3x3 board, if it's normal Tig tag toe\n",
        "    # but now it's 16, Because we can replace other mark with bigger one\n",
        "    for k in range(16):\n",
        "        # get all cells that empty\n",
        "        empty_cells = [(i, j) for i in range(3) for j in range(3) if board[i][j] == ' ']\n",
        "\n",
        "        # if no empty cells mean game ended then find winner\n",
        "        if not empty_cells:\n",
        "            winner = find_winner_by_count_player(board)\n",
        "            return winner\n",
        "\n",
        "        # assign player info for this turn\n",
        "        current_player_info = player1_info if current_player == player1 else player2_info\n",
        "\n",
        "        # select move based on what player can choose\n",
        "        move_size = select_move_size(current_player_info)\n",
        "\n",
        "        # if first turn select medium size\n",
        "        if k == 1:\n",
        "          move_size = 2\n",
        "\n",
        "        all_cells = select_movable_cell(board, move_sizes, move_size, current_player)\n",
        "\n",
        "        # if can't not play then random again until playable\n",
        "        while not all_cells:\n",
        "            move_size = move_size = select_move_size(current_player_info)\n",
        "            all_cells = select_movable_cell(board, move_sizes, move_size, current_player)\n",
        "\n",
        "        # random play\n",
        "        row, col = random.choice(all_cells)\n",
        "\n",
        "        # Handle the chosen move size\n",
        "        if move_size == 3:  # Big\n",
        "            # can play big move? (this condition is unnecessary because we already checked in select_movable_cell)\n",
        "            # TODO - remove this but don't remove \"current_player_info.big_moves_used += 1\"\n",
        "            if current_player_info.big_moves_used < current_player_info.big_move_limit and move_sizes[row][col] < 3:\n",
        "                board[row][col] = current_player\n",
        "                current_player_info.big_moves_used += 1\n",
        "        elif move_size == 2:  # Medium\n",
        "            # can play Medium move? (this condition is unnecessary because we already checked in select_movable_cell)\n",
        "            # TODO - remove this but don't remove \"current_player_info.medium_moves_used += 1\"\n",
        "            if current_player_info.medium_moves_used < current_player_info.medium_move_limit and move_sizes[row][col] < 2:\n",
        "                board[row][col] = current_player\n",
        "                move_sizes[row][col] = 2\n",
        "                current_player_info.medium_moves_used += 1\n",
        "        else:  # Small\n",
        "            # can play Small move? (this condition is unnecessary because we already checked in select_movable_cell)\n",
        "            # TODO - remove this but don't remove \"current_player_info.small_moves_used += 1\"\n",
        "            if board[row][col] == ' ' and current_player_info.small_moves_used < current_player_info.small_move_limit:\n",
        "                board[row][col] = current_player\n",
        "                move_sizes[row][col] = 1\n",
        "                current_player_info.small_moves_used += 1\n",
        "\n",
        "        # check winner after play\n",
        "        winner = check_winner(board)\n",
        "        if winner:\n",
        "            return winner\n",
        "\n",
        "        # next turn, Change player\n",
        "        current_player = player2 if current_player == player1 else player1\n",
        "\n",
        "    # End game after play then Find winner\n",
        "    return find_winner_by_count_player(board)"
      ]
    },
    {
      "cell_type": "markdown",
      "metadata": {
        "id": "1toyrMkLUuod"
      },
      "source": [
        "# calculate_win_rates_simulated\n",
        "for count winner\n",
        "\n",
        "\n",
        "*   num_simulations คือ จำนวนเกมที่จะเล่น\n",
        "*   ยิ่งเล่นหลายเกมยิ่งแม่น\n",
        "\n"
      ]
    },
    {
      "cell_type": "code",
      "execution_count": null,
      "metadata": {
        "id": "9Gd2ziEH6j2q"
      },
      "outputs": [],
      "source": [
        "def calculate_win_rates_simulated(num_simulations):\n",
        "    player1_wins = 0\n",
        "    player2_wins = 0\n",
        "    draws = 0\n",
        "\n",
        "    for _ in range(num_simulations):\n",
        "        result = simulate_game()\n",
        "        if result == 'X':\n",
        "            player1_wins += 1\n",
        "        elif result == 'O':\n",
        "            player2_wins += 1\n",
        "        else:\n",
        "            draws += 1\n",
        "\n",
        "    player1_win_rate = player1_wins / num_simulations\n",
        "    player2_win_rate = player2_wins / num_simulations\n",
        "    draw_rate = draws / num_simulations\n",
        "\n",
        "    return player1_win_rate, player2_win_rate, draw_rate"
      ]
    },
    {
      "cell_type": "code",
      "execution_count": null,
      "metadata": {
        "colab": {
          "base_uri": "https://localhost:8080/"
        },
        "id": "vvV7LZ-N6k4R",
        "outputId": "59d3e08a-7406-4bd7-ed62-9c97e927314c"
      },
      "outputs": [
        {
          "name": "stdout",
          "output_type": "stream",
          "text": [
            "Player 1 Win Rate: 0.5614\n",
            "Player 2 Win Rate: 0.4386\n",
            "Draw Rate: 0.0\n"
          ]
        }
      ],
      "source": [
        "num_simulations = 100000  # Adjust the number of simulations as needed\n",
        "player1_win_rate, player2_win_rate, draw_rate = calculate_win_rates_simulated(num_simulations)\n",
        "print(\"Player 1 Win Rate:\", player1_win_rate)\n",
        "print(\"Player 2 Win Rate:\", player2_win_rate)\n",
        "print(\"Draw Rate:\", draw_rate)"
      ]
    },
    {
      "cell_type": "markdown",
      "metadata": {
        "id": "tWY-qL74VNkr"
      },
      "source": [
        "# In conclusion\n",
        "\n",
        "\n",
        "*   ยังไม่มีทางที่จะได้ Fair game (50:50 winning rate)\n",
        "  * แต่สามารถหา win rate ที่ใกล้เคียง 50 ได้\n",
        "  * โดยคนแรกจะมีโอกาสชนะมากกว่า ประมาณ 5% (ไม่มีทางเสมอ)\n",
        "  * เมื่อเทียบกับ Tig tag toe ปกติที่ต่างกันถึง 18%(รวมเสมอ) - 30%(ไม่รวมเสมอ)\n",
        "*   สิ่งที่ได้ลองไปแล้ว\n",
        "  *  พบว่าหมากใหญ่สุดคือ advantage ที่สำคัญสุด\n",
        "  *  Ratio ที่ใกล้เคียง 50% ที่สุดคือ\n",
        "    * คนแรกได้ หมากใหญ่ = 1, หมากกลาง = 3, หมากเล็ก = 4 (ย้ายอันใหญ่มาเป็นอันเล็ก)\n",
        "    * คนสองได้ หมากใหญ่ = 2, หมากกลาง = 3, หมากเล็ก = 3 (ใหญ่ 2 เผื่อแก้เกม)\n"
      ]
    },
    {
      "cell_type": "markdown",
      "metadata": {
        "id": "1BPA5yRGhzCe"
      },
      "source": [
        "# Minimax Implementation"
      ]
    },
    {
      "cell_type": "code",
      "execution_count": null,
      "metadata": {
        "id": "rUxh2Cab6lkK"
      },
      "outputs": [],
      "source": [
        "import sys\n",
        "import random"
      ]
    },
    {
      "cell_type": "code",
      "execution_count": null,
      "metadata": {
        "id": "pAAVWE4dh6Bz"
      },
      "outputs": [],
      "source": [
        "# The TicTacToe board is represented as a list of lists (3x3 grid)\n",
        "# Empty cells are represented as ' ', X and O represent the players\n",
        "board = [[' ' for _ in range(3)] for _ in range(3)]\n",
        "board_size = [[0 for _ in range(3)] for _ in range(3)]\n",
        "X_sizes = [3, 3, 2]\n",
        "O_sizes = [3, 3, 2]\n",
        "\n",
        "transposition_table = {}"
      ]
    },
    {
      "cell_type": "code",
      "execution_count": null,
      "metadata": {
        "id": "Edx9DvGPiTL-"
      },
      "outputs": [],
      "source": [
        "# Function to print the current state of the board\n",
        "def print_board(board, board_size):\n",
        "    for row in board:\n",
        "        print('|'.join(row))\n",
        "        print('-' * 5)\n",
        "    for row in board_size:\n",
        "        print('|'.join(str(row)))\n",
        "        print('-' * 5)"
      ]
    },
    {
      "cell_type": "code",
      "execution_count": null,
      "metadata": {
        "id": "rB408iuMlYQT"
      },
      "outputs": [],
      "source": [
        "def get_possible_size(current_sizes, validate):\n",
        "    size_availables = []\n",
        "    for i in range(3):\n",
        "      if current_sizes[i] > 0:\n",
        "          size_availables.append(i + 1)\n",
        "\n",
        "    if validate:\n",
        "        return size_availables\n",
        "\n",
        "    # ************ Write you rule to pick size here **************\n",
        "    # enable 2 size for find more win possibilities\n",
        "    # if  sum(X_sizes) < 6:\n",
        "    #     return size_availables[-2:]\n",
        "\n",
        "    if sum(X_sizes) > 6:\n",
        "        return [size_availables[1]]\n",
        "\n",
        "    if  sum(X_sizes) < 5:\n",
        "        return size_availables\n",
        "\n",
        "    # default return only 1 size for fast finding\n",
        "    if len(size_availables) > 0:\n",
        "        return size_availables[-2:]\n",
        "    return size_availables"
      ]
    },
    {
      "cell_type": "code",
      "execution_count": null,
      "metadata": {
        "id": "jpDSxRqEkTGF"
      },
      "outputs": [],
      "source": [
        "def find_choices(board, board_size, side, current_sizes, validate=False):\n",
        "    available_choices = []\n",
        "    possible_size = get_possible_size(current_sizes, validate)\n",
        "    for p_size in possible_size:\n",
        "        for row in range(3):\n",
        "            for col in range(3):\n",
        "                isOwnMark = board[row][col] == side\n",
        "                canPlace = board_size[row][col] < p_size\n",
        "                sizeBlock = (p_size - 1) * 9\n",
        "                rowBlock = row * 3\n",
        "                if not isOwnMark and canPlace:\n",
        "                    available_choices.append(sizeBlock + rowBlock + col)\n",
        "    return available_choices"
      ]
    },
    {
      "cell_type": "code",
      "execution_count": null,
      "metadata": {
        "id": "x3EAPWMziU3w"
      },
      "outputs": [],
      "source": [
        "# Function to check if the board is full\n",
        "def is_board_full(side, current_sizes):\n",
        "    choices = find_choices(board, board_size, side, current_sizes, validate=True)\n",
        "    can_place_somewhere = len(choices) > 0\n",
        "\n",
        "    # is can't replace any mark\n",
        "    return not can_place_somewhere\n",
        "    # return all(cell != ' ' for row in board for cell in row)"
      ]
    },
    {
      "cell_type": "code",
      "execution_count": null,
      "metadata": {
        "id": "emGit06LiWjF"
      },
      "outputs": [],
      "source": [
        "# Function to check if a player has won\n",
        "def is_winner(player):\n",
        "    # Check rows, columns, and diagonals\n",
        "    for i in range(3):\n",
        "        if all(board[i][j] == player for j in range(3)) or \\\n",
        "           all(board[j][i] == player for j in range(3)):\n",
        "            return True\n",
        "    if all(board[i][i] == player for i in range(3)) or \\\n",
        "       all(board[i][2 - i] == player for i in range(3)):\n",
        "        return True\n",
        "    return False"
      ]
    },
    {
      "cell_type": "code",
      "execution_count": null,
      "metadata": {
        "id": "O7BSlpLqtD87"
      },
      "outputs": [],
      "source": [
        "def check_draw_win(player):\n",
        "    target = 0\n",
        "    for i in range(3):\n",
        "        for j in range(3):\n",
        "            if board[i][j] == player:\n",
        "                target += 1\n",
        "    return target > 4"
      ]
    },
    {
      "cell_type": "code",
      "execution_count": null,
      "metadata": {
        "id": "ra6hXBcwUJXv"
      },
      "outputs": [],
      "source": [
        "def get_hash_board():\n",
        "    return tuple([tuple(tuple(row) for row in board), tuple(tuple(row) for row in board_size)])"
      ]
    },
    {
      "cell_type": "code",
      "execution_count": null,
      "metadata": {
        "id": "XWEiZkITiXxC"
      },
      "outputs": [],
      "source": [
        "def minimax(depth, is_maximizing, alpha, beta):\n",
        "\n",
        "    # hash_board = get_hash_board()\n",
        "    # if hash_board in transposition_table:\n",
        "    #     return transposition_table[hash_board]\n",
        "\n",
        "    if is_winner('X'):\n",
        "        return -1\n",
        "    if is_winner('O'):\n",
        "        return 1\n",
        "    if is_board_full('O' if is_maximizing else 'X', O_sizes if is_maximizing else X_sizes):\n",
        "        return 0.5 if check_draw_win('O') else -0.5\n",
        "\n",
        "    if is_maximizing:\n",
        "        max_eval = -sys.maxsize\n",
        "        possible_choices = find_choices(board, board_size, 'O', O_sizes)\n",
        "        for p_choice in possible_choices:\n",
        "            select_size = int(p_choice / 9 + 1)\n",
        "            slot = p_choice % 9\n",
        "            row = int(slot / 3)\n",
        "            col = slot % 3\n",
        "\n",
        "            prev_size = board_size[row][col]\n",
        "            prev_side = board[row][col]\n",
        "\n",
        "            board[row][col] = 'O'\n",
        "            board_size[row][col] = select_size\n",
        "            O_sizes[select_size - 1] -= 1\n",
        "            eval = minimax(depth + 1, False, alpha, beta)\n",
        "\n",
        "            board[row][col] = prev_side\n",
        "            board_size[row][col] = prev_size\n",
        "            O_sizes[select_size - 1] += 1\n",
        "\n",
        "            max_eval = max(max_eval, eval)\n",
        "            alpha = max(alpha, eval)\n",
        "            if beta <= alpha:\n",
        "                break\n",
        "\n",
        "        # transposition_table[get_hash_board()] = max_eval\n",
        "        return max_eval\n",
        "\n",
        "        # for i in range(3):\n",
        "        #     for j in range(3):\n",
        "        #         if board[i][j] == ' ':\n",
        "        #             board[i][j] = 'O'\n",
        "        #             eval = minimax(depth + 1, False)\n",
        "        #             board[i][j] = ' '\n",
        "        #             max_eval = max(max_eval, eval)\n",
        "        # return max_eval\n",
        "    else:\n",
        "        min_eval = sys.maxsize\n",
        "        possible_choices = find_choices(board, board_size, 'X', X_sizes)\n",
        "        for p_choice in possible_choices:\n",
        "            select_size = int(p_choice / 9 + 1)\n",
        "            slot = p_choice % 9\n",
        "            row = int(slot / 3)\n",
        "            col = slot % 3\n",
        "\n",
        "            prev_size = board_size[row][col]\n",
        "            prev_side = board[row][col]\n",
        "\n",
        "            board[row][col] = 'X'\n",
        "            board_size[row][col] = select_size\n",
        "            X_sizes[select_size - 1] -= 1\n",
        "            eval = minimax(depth + 1, True, alpha, beta)\n",
        "\n",
        "            board[row][col] = prev_side\n",
        "            board_size[row][col] = prev_size\n",
        "            X_sizes[select_size - 1] += 1\n",
        "\n",
        "            min_eval = min(min_eval, eval)\n",
        "            beta = min(beta, eval)\n",
        "            if beta <= alpha:\n",
        "                break\n",
        "\n",
        "        # transposition_table[get_hash_board()] = min_eval\n",
        "        return min_eval"
      ]
    },
    {
      "cell_type": "code",
      "execution_count": null,
      "metadata": {
        "id": "kvTnLGJ4iZxc"
      },
      "outputs": [],
      "source": [
        "# Function to find the best move using the Minimax algorithm\n",
        "def find_best_move():\n",
        "    best_move = None\n",
        "    best_eval = -sys.maxsize\n",
        "    alpha = -sys.maxsize\n",
        "    beta = sys.maxsize\n",
        "    possible_choices = find_choices(board, board_size, 'O', O_sizes)\n",
        "    print(O_sizes)\n",
        "    print(possible_choices)\n",
        "    eval_best_chocies = []\n",
        "    more_best_choices = []\n",
        "    for p_choice in possible_choices:\n",
        "        select_size = int(p_choice / 9 + 1)\n",
        "        slot = p_choice % 9\n",
        "        row = int(slot / 3)\n",
        "        col = slot % 3\n",
        "\n",
        "        prev_size = board_size[row][col]\n",
        "        prev_side = board[row][col]\n",
        "\n",
        "        board[row][col] = 'O'\n",
        "        board_size[row][col] = select_size\n",
        "        O_sizes[select_size - 1] -= 1\n",
        "        eval = minimax(0, False, alpha, beta)\n",
        "        eval_best_chocies.append(eval)\n",
        "        print(eval)\n",
        "\n",
        "        # if is choice make computer win so pick it... NOW!!!\n",
        "        is_instance_win = is_winner('O')\n",
        "\n",
        "        board[row][col] = prev_side\n",
        "        board_size[row][col] = prev_size\n",
        "        O_sizes[select_size - 1] += 1\n",
        "        more_best_choices.append((row, col, select_size))\n",
        "\n",
        "        if is_instance_win:\n",
        "            best_move = (row, col, select_size)\n",
        "            return best_move\n",
        "\n",
        "        if eval > best_eval:\n",
        "            best_eval = eval\n",
        "            best_move = (row, col, select_size)\n",
        "            # if best_eval == 1:\n",
        "            #     break\n",
        "\n",
        "    filtered_best_choices = []\n",
        "    for i in range(len(eval_best_chocies)):\n",
        "        if best_eval == eval_best_chocies[i]:\n",
        "            filtered_best_choices.append(more_best_choices[i])\n",
        "\n",
        "    if len(filtered_best_choices) > 1:\n",
        "        return random.choice(filtered_best_choices)\n",
        "\n",
        "    return best_move"
      ]
    },
    {
      "cell_type": "code",
      "execution_count": null,
      "metadata": {
        "id": "K_ktmBWuibCh"
      },
      "outputs": [],
      "source": [
        "def play_game():\n",
        "    while not is_board_full('O', O_sizes) and not is_winner('X') and not is_winner('O'):\n",
        "        print_board(board, board_size)\n",
        "        player_row, player_col, size = map(int, input(\"Enter your move (row and column and size): \").split())\n",
        "\n",
        "        isOwnMark = board[player_row][player_col] == \"X\"\n",
        "        canPlace = board_size[player_row][player_col] < size\n",
        "\n",
        "        if not isOwnMark and canPlace and X_sizes[size - 1] > 0:\n",
        "            board[player_row][player_col] = 'X'\n",
        "            board_size[player_row][player_col] = size\n",
        "            X_sizes[size - 1] -= 1\n",
        "        else:\n",
        "            print(\"Invalid move. Try again.\")\n",
        "            continue\n",
        "\n",
        "        if is_board_full('X', X_sizes):\n",
        "            print_board(board, board_size)\n",
        "            print(\"It's a draw!\")\n",
        "            isWin = check_draw_win('X')\n",
        "            if isWin:\n",
        "                print(\"You win!\")\n",
        "            else:\n",
        "                print(\"Computer wins!\")\n",
        "            break\n",
        "\n",
        "        if is_winner('X'):\n",
        "            print_board(board, board_size)\n",
        "            print(\"You win!\")\n",
        "            break\n",
        "\n",
        "        if is_board_full('O', O_sizes):\n",
        "            print_board(board, board_size)\n",
        "            print(\"It's a draw!\")\n",
        "            isWin = check_draw_win('X')\n",
        "            if isWin:\n",
        "                print(\"You win!\")\n",
        "            else:\n",
        "                print(\"Computer wins!\")\n",
        "            break\n",
        "\n",
        "        print(\"Computer's turn...\")\n",
        "        computer_row, computer_col, computer_size = find_best_move()\n",
        "        board[computer_row][computer_col] = 'O'\n",
        "        board_size[computer_row][computer_col] = computer_size\n",
        "        O_sizes[computer_size - 1] -= 1\n",
        "\n",
        "        if is_winner('O'):\n",
        "            print_board(board, board_size)\n",
        "            print(\"Computer wins!\")\n",
        "            break\n",
        "\n",
        "    if is_board_full('X', X_sizes):\n",
        "        print(\"OSize:\")\n",
        "        print(O_sizes)\n",
        "        print(\"----\")\n",
        "        print_board(board, board_size)\n",
        "        print(\"It's a draw!\")\n",
        "        isWin = check_draw_win('X')\n",
        "        if isWin:\n",
        "            print(\"You win!\")\n",
        "        else:\n",
        "            print(\"Computer wins!\")"
      ]
    },
    {
      "cell_type": "code",
      "execution_count": null,
      "metadata": {
        "colab": {
          "background_save": true,
          "base_uri": "https://localhost:8080/"
        },
        "id": "gJXcW6cricFD",
        "outputId": "b4f91d1a-6808-41ed-d2de-d819227af17a"
      },
      "outputs": [
        {
          "name": "stdout",
          "output_type": "stream",
          "text": [
            " | | \n",
            "-----\n",
            " | | \n",
            "-----\n",
            " | | \n",
            "-----\n",
            "[|0|,| |0|,| |0|]\n",
            "-----\n",
            "[|0|,| |0|,| |0|]\n",
            "-----\n",
            "[|0|,| |0|,| |0|]\n",
            "-----\n",
            "Computer's turn...\n",
            "[3, 3, 2]\n",
            "[9, 10, 11, 12, 13, 14, 15, 16, 17]\n",
            "-0.5\n",
            "0.5\n",
            "-0.5\n",
            "0.5\n",
            "-1\n",
            "0.5\n",
            "-0.5\n",
            "0.5\n",
            "-0.5\n",
            " | | \n",
            "-----\n",
            " |X| \n",
            "-----\n",
            " |O| \n",
            "-----\n",
            "[|0|,| |0|,| |0|]\n",
            "-----\n",
            "[|0|,| |1|,| |0|]\n",
            "-----\n",
            "[|0|,| |2|,| |0|]\n",
            "-----\n",
            "Computer's turn...\n",
            "[3, 2, 2]\n",
            "[9, 10, 11, 12, 13, 14, 15, 17, 18, 19, 20, 21, 22, 23, 24, 26]\n",
            "-1\n",
            "-1\n",
            "-1\n",
            "-1\n",
            "-1\n",
            "-1\n",
            "1\n",
            "-1\n",
            "-1\n",
            "-1\n",
            "-1\n",
            "-1\n",
            "1\n",
            "-1\n",
            "-1\n",
            "-1\n",
            " | | \n",
            "-----\n",
            " |X| \n",
            "-----\n",
            "O|O| \n",
            "-----\n",
            "[|0|,| |0|,| |0|]\n",
            "-----\n",
            "[|0|,| |1|,| |0|]\n",
            "-----\n",
            "[|2|,| |2|,| |0|]\n",
            "-----\n",
            "Computer's turn...\n",
            "[3, 1, 2]\n",
            "[9, 10, 11, 12, 13, 14, 17, 18, 19, 20, 21, 22, 23, 26]\n",
            "-1\n",
            "-1\n",
            "-1\n",
            "-1\n",
            "-1\n",
            "-1\n",
            "-1\n",
            "-1\n",
            "-1\n",
            "-1\n",
            "-1\n",
            "1\n",
            "-1\n",
            "-1\n",
            " | | \n",
            "-----\n",
            " |O| \n",
            "-----\n",
            "X|O| \n",
            "-----\n",
            "[|0|,| |0|,| |0|]\n",
            "-----\n",
            "[|0|,| |3|,| |0|]\n",
            "-----\n",
            "[|3|,| |2|,| |0|]\n",
            "-----\n"
          ]
        }
      ],
      "source": [
        "# Start the game\n",
        "play_game()"
      ]
    }
  ],
  "metadata": {
    "colab": {
      "provenance": []
    },
    "kernelspec": {
      "display_name": "Python 3",
      "name": "python3"
    },
    "language_info": {
      "name": "python"
    }
  },
  "nbformat": 4,
  "nbformat_minor": 0
}